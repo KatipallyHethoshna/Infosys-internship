{
  "nbformat": 4,
  "nbformat_minor": 0,
  "metadata": {
    "colab": {
      "provenance": []
    },
    "kernelspec": {
      "name": "python3",
      "display_name": "Python 3"
    },
    "language_info": {
      "name": "python"
    }
  },
  "cells": [
    {
      "cell_type": "code",
      "source": [
        "#load the dataset\n",
        "!gdown https://drive.google.com/file/d/1XyhVIZaKYZczlM2alun_fofilqTBq_9c/view?usp=drive_link\n"
      ],
      "metadata": {
        "colab": {
          "base_uri": "https://localhost:8080/"
        },
        "id": "1fRV9I548SzY",
        "outputId": "83cbc515-3ad6-4cdb-e6f4-c265ac93a7f0"
      },
      "execution_count": 2,
      "outputs": [
        {
          "output_type": "stream",
          "name": "stdout",
          "text": [
            "/usr/local/lib/python3.10/dist-packages/gdown/parse_url.py:48: UserWarning: You specified a Google Drive link that is not the correct link to download a file. You might want to try `--fuzzy` option or the following url: https://drive.google.com/uc?id=1XyhVIZaKYZczlM2alun_fofilqTBq_9c\n",
            "  warnings.warn(\n",
            "Downloading...\n",
            "From: https://drive.google.com/file/d/1XyhVIZaKYZczlM2alun_fofilqTBq_9c/view?usp=drive_link\n",
            "To: /content/view?usp=drive_link\n",
            "92.4kB [00:00, 33.0MB/s]\n"
          ]
        }
      ]
    },
    {
      "cell_type": "code",
      "source": [
        "# To compare the models (Linear, Lasso, Ridge, and Logistic Regression) on the provided dataset,the following are the steps to follow:\n",
        "\n",
        "# Data Preparation: Preprocessing the dataset (handling missing values, scaling, encoding).\n",
        "# Model Building: Building each model individually.\n",
        "# Evaluation: Calculating accuracy and RMSE for each model.\n",
        "# Visualization: Plotting graphs for accuracy and RMSE.\n",
        "# Observations: Discussing why certain models perform better.\n"
      ],
      "metadata": {
        "id": "w9psVKWNc3Ns"
      },
      "execution_count": null,
      "outputs": []
    },
    {
      "cell_type": "markdown",
      "source": [
        "Step1:Data preparation"
      ],
      "metadata": {
        "id": "jrLwitCidUgn"
      }
    },
    {
      "cell_type": "code",
      "source": [
        "import pandas as pd\n",
        "from sklearn.model_selection import train_test_split\n",
        "from sklearn.preprocessing import StandardScaler\n",
        "\n",
        "# Load the dataset\n",
        "data = pd.read_csv(\"/content/healthcare-dataset-stroke-data.csv\")\n",
        "\n",
        "# Handle missing values and encode categorical variables\n",
        "data = data.dropna()\n",
        "data = pd.get_dummies(data, drop_first=True)\n",
        "\n",
        "# Split into features (X) and target (y)\n",
        "X = data.drop(columns=[\"stroke\"])  # Replace \"stroke\" with your target variable\n",
        "y = data[\"stroke\"]\n",
        "\n",
        "# Split into training and testing sets\n",
        "X_train, X_test, y_train, y_test = train_test_split(X, y, test_size=0.2, random_state=42)\n",
        "\n",
        "# Standardize features\n",
        "scaler = StandardScaler()\n",
        "X_train = scaler.fit_transform(X_train)\n",
        "X_test = scaler.transform(X_test)\n"
      ],
      "metadata": {
        "id": "GI0gCIORAS_l"
      },
      "execution_count": 78,
      "outputs": []
    },
    {
      "cell_type": "markdown",
      "source": [
        "Step2:Building models"
      ],
      "metadata": {
        "id": "CbA17e2JdSvV"
      }
    },
    {
      "cell_type": "markdown",
      "source": [
        "**Linear Regression**"
      ],
      "metadata": {
        "id": "izkzb9CEdeTN"
      }
    },
    {
      "cell_type": "code",
      "source": [
        "from sklearn.linear_model import LinearRegression\n",
        "from sklearn.metrics import mean_squared_error, accuracy_score\n",
        "\n",
        "# Linear Regression\n",
        "linear_model = LinearRegression()\n",
        "linear_model.fit(X_train, y_train)\n",
        "y_pred_linear = linear_model.predict(X_test)\n",
        "\n",
        "# Calculate RMSE\n",
        "rmse_linear = mean_squared_error(y_test, y_pred_linear, squared=False)\n",
        "\n",
        "# Threshold predictions for binary classification\n",
        "y_pred_linear_binary = (y_pred_linear >= 0.5).astype(int)\n",
        "accuracy_linear = accuracy_score(y_test, y_pred_linear_binary)\n",
        "\n",
        "print(f\"Linear Regression RMSE: {rmse_linear}\")\n",
        "print(f\"Linear Regression Accuracy: {accuracy_linear}\")\n"
      ],
      "metadata": {
        "colab": {
          "base_uri": "https://localhost:8080/"
        },
        "id": "V1o5bHQBAb5K",
        "outputId": "1ad3090b-93b1-40ba-ce4c-031eaeaf2998"
      },
      "execution_count": 79,
      "outputs": [
        {
          "output_type": "stream",
          "name": "stdout",
          "text": [
            "Linear Regression RMSE: 0.21568683180849998\n",
            "Linear Regression Accuracy: 0.9460285132382892\n"
          ]
        },
        {
          "output_type": "stream",
          "name": "stderr",
          "text": [
            "/usr/local/lib/python3.10/dist-packages/sklearn/metrics/_regression.py:492: FutureWarning: 'squared' is deprecated in version 1.4 and will be removed in 1.6. To calculate the root mean squared error, use the function'root_mean_squared_error'.\n",
            "  warnings.warn(\n"
          ]
        }
      ]
    },
    {
      "cell_type": "markdown",
      "source": [
        "**Lasso Regression**"
      ],
      "metadata": {
        "id": "vnmF52mZdvGW"
      }
    },
    {
      "cell_type": "code",
      "source": [
        "from sklearn.linear_model import Lasso\n",
        "\n",
        "# Lasso Regression\n",
        "lasso_model = Lasso(alpha=0.1)\n",
        "lasso_model.fit(X_train, y_train)\n",
        "y_pred_lasso = lasso_model.predict(X_test)\n",
        "\n",
        "# Calculate RMSE\n",
        "rmse_lasso = mean_squared_error(y_test, y_pred_lasso, squared=False)\n",
        "\n",
        "# Threshold predictions for binary classification\n",
        "y_pred_lasso_binary = (y_pred_lasso >= 0.5).astype(int)\n",
        "accuracy_lasso = accuracy_score(y_test, y_pred_lasso_binary)\n",
        "\n",
        "print(f\"Lasso Regression RMSE: {rmse_lasso}\")\n",
        "print(f\"Lasso Regression Accuracy: {accuracy_lasso}\")\n"
      ],
      "metadata": {
        "colab": {
          "base_uri": "https://localhost:8080/"
        },
        "id": "q1tHUJUfAhU-",
        "outputId": "5875ecd9-8803-44eb-ecf3-b92d8c823cc2"
      },
      "execution_count": 80,
      "outputs": [
        {
          "output_type": "stream",
          "name": "stdout",
          "text": [
            "Lasso Regression RMSE: 0.22641008879391325\n",
            "Lasso Regression Accuracy: 0.9460285132382892\n"
          ]
        },
        {
          "output_type": "stream",
          "name": "stderr",
          "text": [
            "/usr/local/lib/python3.10/dist-packages/sklearn/metrics/_regression.py:492: FutureWarning: 'squared' is deprecated in version 1.4 and will be removed in 1.6. To calculate the root mean squared error, use the function'root_mean_squared_error'.\n",
            "  warnings.warn(\n"
          ]
        }
      ]
    },
    {
      "cell_type": "markdown",
      "source": [
        "**Ridge Regression**"
      ],
      "metadata": {
        "id": "gyHdOvHreCGI"
      }
    },
    {
      "cell_type": "code",
      "source": [
        "from sklearn.linear_model import Ridge\n",
        "\n",
        "# Ridge Regression\n",
        "ridge_model = Ridge(alpha=1.0)\n",
        "ridge_model.fit(X_train, y_train)\n",
        "y_pred_ridge = ridge_model.predict(X_test)\n",
        "\n",
        "# Calculate RMSE\n",
        "rmse_ridge = mean_squared_error(y_test, y_pred_ridge, squared=False)\n",
        "\n",
        "# Threshold predictions for binary classification\n",
        "y_pred_ridge_binary = (y_pred_ridge >= 0.5).astype(int)\n",
        "accuracy_ridge = accuracy_score(y_test, y_pred_ridge_binary)\n",
        "\n",
        "print(f\"Ridge Regression RMSE: {rmse_ridge}\")\n",
        "print(f\"Ridge Regression Accuracy: {accuracy_ridge}\")\n"
      ],
      "metadata": {
        "colab": {
          "base_uri": "https://localhost:8080/"
        },
        "id": "J3eGsQGoAnV7",
        "outputId": "bfca4214-8a17-4ef6-be2b-1601dfb58183"
      },
      "execution_count": 81,
      "outputs": [
        {
          "output_type": "stream",
          "name": "stdout",
          "text": [
            "Ridge Regression RMSE: 0.2156886589835584\n",
            "Ridge Regression Accuracy: 0.9460285132382892\n"
          ]
        },
        {
          "output_type": "stream",
          "name": "stderr",
          "text": [
            "/usr/local/lib/python3.10/dist-packages/sklearn/metrics/_regression.py:492: FutureWarning: 'squared' is deprecated in version 1.4 and will be removed in 1.6. To calculate the root mean squared error, use the function'root_mean_squared_error'.\n",
            "  warnings.warn(\n"
          ]
        }
      ]
    },
    {
      "cell_type": "markdown",
      "source": [
        " **Logistic Regression**"
      ],
      "metadata": {
        "id": "i309QCzMePdp"
      }
    },
    {
      "cell_type": "code",
      "source": [
        "from sklearn.linear_model import LogisticRegression\n",
        "\n",
        "# Logistic Regression\n",
        "logistic_model = LogisticRegression(max_iter=1000)\n",
        "logistic_model.fit(X_train, y_train)\n",
        "y_pred_logistic = logistic_model.predict(X_test)\n",
        "\n",
        "# Calculate Accuracy\n",
        "accuracy_logistic = accuracy_score(y_test, y_pred_logistic)\n",
        "\n",
        "print(f\"Logistic Regression Accuracy: {accuracy_logistic}\")\n"
      ],
      "metadata": {
        "colab": {
          "base_uri": "https://localhost:8080/"
        },
        "id": "_lu1uxC7AqmZ",
        "outputId": "105e2aa0-be16-40ae-ea51-c940ec1a51bf"
      },
      "execution_count": 82,
      "outputs": [
        {
          "output_type": "stream",
          "name": "stdout",
          "text": [
            "Logistic Regression Accuracy: 0.9460285132382892\n"
          ]
        }
      ]
    },
    {
      "cell_type": "markdown",
      "source": [
        " Step 3:Plotting RMSE and Accuracy"
      ],
      "metadata": {
        "id": "Sx0ygWeGea9L"
      }
    },
    {
      "cell_type": "code",
      "source": [
        "import matplotlib.pyplot as plt\n",
        "\n",
        "# RMSE Plot\n",
        "rmse_values = [rmse_linear, rmse_lasso, rmse_ridge]\n",
        "models = [\"Linear\", \"Lasso\", \"Ridge\"]\n",
        "\n",
        "plt.figure(figsize=(10, 5))\n",
        "plt.bar(models, rmse_values, color='skyblue')\n",
        "plt.xlabel(\"Model\")\n",
        "plt.ylabel(\"RMSE\")\n",
        "plt.title(\"RMSE of Regression Models\")\n",
        "plt.show()\n",
        "\n",
        "# Accuracy Plot\n",
        "accuracy_values = [accuracy_linear, accuracy_lasso, accuracy_ridge, accuracy_logistic]\n",
        "models = [\"Linear\", \"Lasso\", \"Ridge\", \"Logistic\"]\n",
        "\n",
        "plt.figure(figsize=(10, 5))\n",
        "plt.bar(models, accuracy_values, color='lightgreen')\n",
        "plt.xlabel(\"Model\")\n",
        "plt.ylabel(\"Accuracy\")\n",
        "plt.title(\"Accuracy of Models\")\n",
        "plt.show()\n"
      ],
      "metadata": {
        "colab": {
          "base_uri": "https://localhost:8080/",
          "height": 957
        },
        "id": "b0mCL_XWAu_I",
        "outputId": "7cab3655-d2fa-489d-b732-71e39425a085"
      },
      "execution_count": 83,
      "outputs": [
        {
          "output_type": "display_data",
          "data": {
            "text/plain": [
              "<Figure size 1000x500 with 1 Axes>"
            ],
            "image/png": "[encoded data removed]"
          },
          "metadata": {}
        },
        {
          "output_type": "display_data",
          "data": {
            "text/plain": [
              "<Figure size 1000x500 with 1 Axes>"
            ],
            "image/png": "[encoded data removed]"
          },
          "metadata": {}
        }
      ]
    },
    {
      "cell_type": "markdown",
      "source": [
        "**Observations and Analysis**"
      ],
      "metadata": {
        "id": "KM3N2iJfhm0e"
      }
    },
    {
      "cell_type": "markdown",
      "source": [
        "Logistic Regression should outperform in terms of classification accuracy.\n",
        "\n",
        "Linear, Lasso, and Ridge Regression are not inherently classification models but they still provide comparable results due to effective thresholding."
      ],
      "metadata": {
        "id": "5IrSx3EhCFLL"
      }
    }
  ]
}